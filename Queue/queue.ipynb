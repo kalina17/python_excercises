{
 "cells": [
  {
   "cell_type": "code",
   "execution_count": 32,
   "id": "56d05aa3-8476-4911-9ea9-d5d9a911bba9",
   "metadata": {},
   "outputs": [
    {
     "name": "stdout",
     "output_type": "stream",
     "text": [
      "['.ipynb_checkpoints', 'node.py', 'queue.ipynb', '__pycache__']\n"
     ]
    }
   ],
   "source": [
    "import os\n",
    "print(os.listdir()) #ensuring that my file node.py is in the same folder"
   ]
  },
  {
   "cell_type": "code",
   "execution_count": 33,
   "id": "5c8c9e49-86ac-4c2e-8ca9-016e55f47e09",
   "metadata": {},
   "outputs": [],
   "source": [
    "from node import Node #importing class Node from the node.py file"
   ]
  },
  {
   "cell_type": "markdown",
   "id": "c7dd802e-0a80-470c-965b-0162e0775ae8",
   "metadata": {},
   "source": [
    "### Class Queue:"
   ]
  },
  {
   "cell_type": "code",
   "execution_count": 34,
   "id": "3f14df82-faed-49fb-b3a1-f2d3cdc8c7ca",
   "metadata": {},
   "outputs": [],
   "source": [
    "class Queue:\n",
    "  def __init__(self, max_size=None): #constructor with the parameter max_size that has a default value of None\n",
    "    self.head = None\n",
    "    self.tail = None\n",
    "    self.max_size = max_size\n",
    "    self.size = 0\n",
    "# adding to the queue    \n",
    "  def enqueue(self, value):\n",
    "    if self.has_space():\n",
    "      item_to_add = Node(value)\n",
    "      print(\"Adding \" + str(item_to_add.get_value()) + \" to the queue!\")\n",
    "      if self.is_empty(): # The queue is empty, so the node we’re adding is both the head and tail of the queue\n",
    "        self.head = item_to_add\n",
    "        self.tail = item_to_add\n",
    "      else: # The queue has at least one other node, so the added node becomes the new tail\n",
    "        self.tail.set_next_node(item_to_add)\n",
    "        self.tail = item_to_add\n",
    "      self.size += 1\n",
    "    else: # The queue is full, so the node will not get added because we don’t want queue “overflow”\n",
    "      print(\"Sorry, no more room!\")\n",
    "        \n",
    "# removing from the queue         \n",
    "  def dequeue(self):\n",
    "    if self.get_size() > 0:\n",
    "      item_to_remove = self.head\n",
    "      print(str(item_to_remove.get_value()) + \" is served!\")\n",
    "      if self.get_size() == 1: # The queue has one node, so when we remove it, the queue will be empty and we need to reset the queue’s head and tail to None\n",
    "        self.head = None\n",
    "        self.tail = None\n",
    "      else: # The queue has more than one node, and we just remove the head node and reset the head to the following node\n",
    "        self.head = self.head.get_next_node()\n",
    "      self.size -= 1\n",
    "      return item_to_remove.get_value()\n",
    "    else: # The queue is empty, so we cannot remove or return any nodes lest we run into queue “underflow”\n",
    "      print(\"The queue is totally empty!\")\n",
    "\n",
    "# method peek() returns the value of the stack’s head using the Node method get_value()\n",
    "  def peek(self):\n",
    "    if self.size > 0:\n",
    "      return self.head.get_value()\n",
    "    else:\n",
    "      print(\"There is nothing in the queue!\")\n",
    "        \n",
    "# get_size() simply returns the value of the size property\n",
    "  def get_size(self):\n",
    "    return self.size\n",
    "# method has_space() returns True if the queue has space for another node  \n",
    "  def has_space(self):\n",
    "    if self.max_size == None:\n",
    "      return True\n",
    "    else:\n",
    "      return self.max_size > self.get_size()\n",
    "        \n",
    "# method is_empty returns true if the size is 0    \n",
    "  def is_empty(self):\n",
    "    return self.size == 0"
   ]
  },
  {
   "cell_type": "markdown",
   "id": "2de03fd7-6396-4c23-b190-e333e983f7c4",
   "metadata": {},
   "source": [
    "### Testing! "
   ]
  },
  {
   "cell_type": "code",
   "execution_count": 35,
   "id": "41fc3be2-36d7-42ce-98bf-18a34cc4ead3",
   "metadata": {},
   "outputs": [
    {
     "name": "stdout",
     "output_type": "stream",
     "text": [
      "I'm creating the order line with up to 7 orders.\n",
      "\n"
     ]
    }
   ],
   "source": [
    "print(\"I'm creating the order line with up to 7 orders.\\n\")\n",
    "ord_line = Queue(7)"
   ]
  },
  {
   "cell_type": "code",
   "execution_count": 36,
   "id": "f6518834-0bac-4810-bc97-6dd79459e6fd",
   "metadata": {},
   "outputs": [
    {
     "name": "stdout",
     "output_type": "stream",
     "text": [
      "I'm adding the orders to the line: \n",
      "\n",
      "Adding Brioche con crema e caffè to the queue!\n",
      "Adding Owsianka z owocami i sok pomarańczowy to the queue!\n",
      "Adding Un bocadillo de tortilla de patatas y un zumo de naranja natural to the queue!\n",
      "Adding Margherita pizza with olives to the queue!\n",
      "Adding Polish traditional cheesecake and green tea to the queue!\n",
      "Adding Pasta pesto and bottle of sparkling water to the queue!\n",
      "Adding Gelato alla panna, fragola e tiramisù to the queue!\n"
     ]
    }
   ],
   "source": [
    "print(\"I'm adding the orders to the line: \\n\")\n",
    "ord_line.enqueue(\"Brioche con crema e caffè\")\n",
    "ord_line.enqueue(\"Owsianka z owocami i sok pomarańczowy\")\n",
    "ord_line.enqueue(\"Un bocadillo de tortilla de patatas y un zumo de naranja natural\")\n",
    "ord_line.enqueue(\"Margherita pizza with olives\")\n",
    "ord_line.enqueue(\"Polish traditional cheesecake and green tea\")\n",
    "ord_line.enqueue(\"Pasta pesto and bottle of sparkling water\")\n",
    "ord_line.enqueue(\"Gelato alla panna, fragola e tiramisù\")"
   ]
  },
  {
   "cell_type": "code",
   "execution_count": 37,
   "id": "64033825-c719-4c39-925e-49101ae25f1e",
   "metadata": {},
   "outputs": [
    {
     "name": "stdout",
     "output_type": "stream",
     "text": [
      "Trying to add 8th order...\n",
      "Sorry, no more room!\n"
     ]
    }
   ],
   "source": [
    "print(\"Trying to add 8th order...\")\n",
    "ord_line.enqueue(\"Makaron z truskawkami\")"
   ]
  },
  {
   "cell_type": "code",
   "execution_count": 38,
   "id": "5e8233d0-5a0a-4665-b56a-42fcfed36af1",
   "metadata": {},
   "outputs": [
    {
     "name": "stdout",
     "output_type": "stream",
     "text": [
      "The order currently being prepared is: Brioche con crema e caffè\n"
     ]
    }
   ],
   "source": [
    "print(\"The order currently being prepared is: \" + ord_line.peek())"
   ]
  },
  {
   "cell_type": "code",
   "execution_count": 39,
   "id": "b129963c-d082-4222-a7de-85f3507c96fd",
   "metadata": {},
   "outputs": [
    {
     "name": "stdout",
     "output_type": "stream",
     "text": [
      "Brioche con crema e caffè is served!\n"
     ]
    },
    {
     "data": {
      "text/plain": [
       "'Brioche con crema e caffè'"
      ]
     },
     "execution_count": 39,
     "metadata": {},
     "output_type": "execute_result"
    }
   ],
   "source": [
    "ord_line.dequeue()"
   ]
  },
  {
   "cell_type": "code",
   "execution_count": 40,
   "id": "535afe73-0772-4ad1-bf90-05e1eab38c48",
   "metadata": {},
   "outputs": [
    {
     "name": "stdout",
     "output_type": "stream",
     "text": [
      "Owsianka z owocami i sok pomarańczowy is served!\n"
     ]
    },
    {
     "data": {
      "text/plain": [
       "'Owsianka z owocami i sok pomarańczowy'"
      ]
     },
     "execution_count": 40,
     "metadata": {},
     "output_type": "execute_result"
    }
   ],
   "source": [
    "ord_line.dequeue()"
   ]
  },
  {
   "cell_type": "code",
   "execution_count": 41,
   "id": "f77ec790-78b1-4c26-8dc2-98dfc01a04f6",
   "metadata": {},
   "outputs": [
    {
     "name": "stdout",
     "output_type": "stream",
     "text": [
      "Un bocadillo de tortilla de patatas y un zumo de naranja natural is served!\n"
     ]
    },
    {
     "data": {
      "text/plain": [
       "'Un bocadillo de tortilla de patatas y un zumo de naranja natural'"
      ]
     },
     "execution_count": 41,
     "metadata": {},
     "output_type": "execute_result"
    }
   ],
   "source": [
    "ord_line.dequeue()"
   ]
  },
  {
   "cell_type": "code",
   "execution_count": 42,
   "id": "1f94c3ef-b73d-40f3-9dda-e94e67d3bbe9",
   "metadata": {},
   "outputs": [
    {
     "name": "stdout",
     "output_type": "stream",
     "text": [
      "Margherita pizza with olives is served!\n"
     ]
    },
    {
     "data": {
      "text/plain": [
       "'Margherita pizza with olives'"
      ]
     },
     "execution_count": 42,
     "metadata": {},
     "output_type": "execute_result"
    }
   ],
   "source": [
    "ord_line.dequeue()"
   ]
  },
  {
   "cell_type": "code",
   "execution_count": 43,
   "id": "102398fb-f214-4920-9f65-7d8c10755063",
   "metadata": {},
   "outputs": [
    {
     "name": "stdout",
     "output_type": "stream",
     "text": [
      "Polish traditional cheesecake and green tea is served!\n"
     ]
    },
    {
     "data": {
      "text/plain": [
       "'Polish traditional cheesecake and green tea'"
      ]
     },
     "execution_count": 43,
     "metadata": {},
     "output_type": "execute_result"
    }
   ],
   "source": [
    "ord_line.dequeue()"
   ]
  },
  {
   "cell_type": "code",
   "execution_count": 44,
   "id": "18419d90-de32-40da-afbe-74b597d6a9aa",
   "metadata": {},
   "outputs": [
    {
     "name": "stdout",
     "output_type": "stream",
     "text": [
      "Pasta pesto and bottle of sparkling water is served!\n"
     ]
    },
    {
     "data": {
      "text/plain": [
       "'Pasta pesto and bottle of sparkling water'"
      ]
     },
     "execution_count": 44,
     "metadata": {},
     "output_type": "execute_result"
    }
   ],
   "source": [
    "ord_line.dequeue()"
   ]
  },
  {
   "cell_type": "code",
   "execution_count": 45,
   "id": "59318fdc-c8a5-4b47-8e1d-875c1f7cb8b5",
   "metadata": {},
   "outputs": [
    {
     "name": "stdout",
     "output_type": "stream",
     "text": [
      "Gelato alla panna, fragola e tiramisù is served!\n"
     ]
    },
    {
     "data": {
      "text/plain": [
       "'Gelato alla panna, fragola e tiramisù'"
      ]
     },
     "execution_count": 45,
     "metadata": {},
     "output_type": "execute_result"
    }
   ],
   "source": [
    "ord_line.dequeue()"
   ]
  },
  {
   "cell_type": "code",
   "execution_count": 46,
   "id": "d646cf25-ae7d-4d15-b54d-87039c18a007",
   "metadata": {},
   "outputs": [
    {
     "name": "stdout",
     "output_type": "stream",
     "text": [
      "The queue is totally empty!\n"
     ]
    }
   ],
   "source": [
    "#Empty queue:\n",
    "ord_line.dequeue()"
   ]
  },
  {
   "cell_type": "code",
   "execution_count": null,
   "id": "17cff043-cc0c-4acc-88db-b0e4a690e259",
   "metadata": {},
   "outputs": [],
   "source": []
  }
 ],
 "metadata": {
  "kernelspec": {
   "display_name": "Python 3 (ipykernel)",
   "language": "python",
   "name": "python3"
  },
  "language_info": {
   "codemirror_mode": {
    "name": "ipython",
    "version": 3
   },
   "file_extension": ".py",
   "mimetype": "text/x-python",
   "name": "python",
   "nbconvert_exporter": "python",
   "pygments_lexer": "ipython3",
   "version": "3.12.7"
  }
 },
 "nbformat": 4,
 "nbformat_minor": 5
}
