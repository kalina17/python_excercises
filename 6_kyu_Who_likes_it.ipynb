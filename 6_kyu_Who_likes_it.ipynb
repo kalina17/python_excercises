{
 "cells": [
  {
   "cell_type": "markdown",
   "id": "95a9eaf0-f7d3-4643-860c-b32ac0e69bc7",
   "metadata": {},
   "source": [
    "### https://www.codewars.com/kata/5266876b8f4bf2da9b000362/train/python"
   ]
  },
  {
   "cell_type": "markdown",
   "id": "db91a7d0-6976-4c23-9e0c-aaffb8a76534",
   "metadata": {},
   "source": [
    "#### Implement the function which takes an array containing the names of people that like an item. It must return the display text as shown in the examples:\n",
    "\n",
    "[]                                -->  \"no one likes this\"  \n",
    "[\"Peter\"]                         -->  \"Peter likes this\"  \n",
    "[\"Jacob\", \"Alex\"]                 -->  \"Jacob and Alex like this\"  \n",
    "[\"Max\", \"John\", \"Mark\"]           -->  \"Max, John and Mark like this\"  \n",
    "[\"Alex\", \"Jacob\", \"Mark\", \"Max\"]  -->  \"Alex,lution\n"
   ]
  },
  {
   "cell_type": "code",
   "execution_count": 22,
   "id": "8402d899-3608-41be-862d-e92ee64727e2",
   "metadata": {},
   "outputs": [],
   "source": [
    "def likes(names):\n",
    "    match len(names):\n",
    "        case 0:\n",
    "            return \"no one likes this\"\n",
    "        case 1: \n",
    "            return f\"{names[0]} likes this\"\n",
    "        case 2:\n",
    "            return f\"{names[0]} and {names[1]} like this\"\n",
    "        case 3:\n",
    "            return f\"{names[0]}, {names[1]} and {names[2]} like this\"\n",
    "        case _:\n",
    "            return f\"{names[0]}, {names[1]} and {len(names) - 2} others like this\""
   ]
  },
  {
   "cell_type": "code",
   "execution_count": 23,
   "id": "db0109b4-d208-4e9d-a806-f9f1be046f78",
   "metadata": {},
   "outputs": [],
   "source": [
    "def check_if_works(likes_input, expt_output):    \n",
    "    if likes(likes_input) == expt_output:\n",
    "        print(\"Good Job! Please find your solution below: \\n\")\n",
    "        print(likes(likes_input))\n",
    "    else:\n",
    "        print(\"Error, something went wrong.\\n\")\n",
    "        print(\"The expected output:\", expt_output)\n",
    "        print(\"While the actual ouput is:\", likes(likes_input))\n",
    " "
   ]
  },
  {
   "cell_type": "code",
   "execution_count": 24,
   "id": "de1d2678-787c-47bb-ae45-192a42370283",
   "metadata": {},
   "outputs": [
    {
     "name": "stdout",
     "output_type": "stream",
     "text": [
      "Good Job! Please find your solution below: \n",
      "\n",
      "Peter likes this\n"
     ]
    }
   ],
   "source": [
    "check_if_works(['Peter'], 'Peter likes this')"
   ]
  },
  {
   "cell_type": "code",
   "execution_count": 26,
   "id": "5087bef0-41ba-457c-9bb1-27e064cf08f5",
   "metadata": {},
   "outputs": [
    {
     "name": "stdout",
     "output_type": "stream",
     "text": [
      "Good Job! Please find your solution below: \n",
      "\n",
      "no one likes this\n"
     ]
    }
   ],
   "source": [
    "check_if_works([], 'no one likes this')"
   ]
  },
  {
   "cell_type": "code",
   "execution_count": 27,
   "id": "26f768a0-7422-4788-b74a-c1a98534aab6",
   "metadata": {},
   "outputs": [
    {
     "name": "stdout",
     "output_type": "stream",
     "text": [
      "Good Job! Please find your solution below: \n",
      "\n",
      "Jacob and Alex like this\n"
     ]
    }
   ],
   "source": [
    "check_if_works(['Jacob', 'Alex'], 'Jacob and Alex like this')"
   ]
  },
  {
   "cell_type": "code",
   "execution_count": 28,
   "id": "a2b56edd-a358-4daa-a942-2d5976d0403e",
   "metadata": {},
   "outputs": [
    {
     "name": "stdout",
     "output_type": "stream",
     "text": [
      "Good Job! Please find your solution below: \n",
      "\n",
      "Max, John and Mark like this\n"
     ]
    }
   ],
   "source": [
    "check_if_works(['Max', 'John', 'Mark'], 'Max, John and Mark like this')"
   ]
  },
  {
   "cell_type": "code",
   "execution_count": 29,
   "id": "66f7389f-323f-4a43-bac3-ce8af7952e98",
   "metadata": {},
   "outputs": [
    {
     "name": "stdout",
     "output_type": "stream",
     "text": [
      "Good Job! Please find your solution below: \n",
      "\n",
      "Alex, Jacob and 2 others like this\n"
     ]
    }
   ],
   "source": [
    "check_if_works(['Alex', 'Jacob', 'Mark', 'Max'], 'Alex, Jacob and 2 others like this')"
   ]
  },
  {
   "cell_type": "code",
   "execution_count": null,
   "id": "79108b8e-0a6d-4914-aa22-5251ee06f5f2",
   "metadata": {},
   "outputs": [],
   "source": []
  }
 ],
 "metadata": {
  "kernelspec": {
   "display_name": "Python 3 (ipykernel)",
   "language": "python",
   "name": "python3"
  },
  "language_info": {
   "codemirror_mode": {
    "name": "ipython",
    "version": 3
   },
   "file_extension": ".py",
   "mimetype": "text/x-python",
   "name": "python",
   "nbconvert_exporter": "python",
   "pygments_lexer": "ipython3",
   "version": "3.12.7"
  }
 },
 "nbformat": 4,
 "nbformat_minor": 5
}
